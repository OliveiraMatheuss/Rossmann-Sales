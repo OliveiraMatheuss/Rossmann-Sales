{
 "cells": [
  {
   "cell_type": "code",
   "execution_count": 1,
   "metadata": {},
   "outputs": [],
   "source": [
    "import math\n",
    "import numpy  as np\n",
    "import pandas as pd\n",
    "import random\n",
    "import pickle\n",
    "import warnings\n",
    "import inflection\n",
    "import seaborn as sns\n",
    "\n",
    "from scipy                 import stats  as ss\n",
    "from matplotlib            import pyplot as plt\n",
    "from IPython.display       import Image\n",
    "from IPython.core.display  import HTML\n",
    "\n",
    "\n",
    "from sklearn.metrics       import mean_absolute_error, mean_squared_error, mean_absolute_percentage_error\n",
    "from sklearn.ensemble      import RandomForestRegressor\n",
    "from sklearn.linear_model  import LinearRegression, Lasso\n",
    "from sklearn.preprocessing import RobustScaler, MinMaxScaler, LabelEncoder\n",
    "from src.tools             import ml_error\n",
    "from src.tools             import timeSeries_CV\n",
    "import xgboost as xgb\n",
    "\n",
    "warnings.filterwarnings( 'ignore' )"
   ]
  },
  {
   "cell_type": "code",
   "execution_count": 2,
   "metadata": {},
   "outputs": [],
   "source": [
    "# Lendo o split gerado na etapa 6\n",
    "X_train = pd.read_csv('data/X_train.csv')\n",
    "y_train = pd.read_csv('data/y_train.csv')\n",
    "\n",
    "X_test = pd.read_csv('data/X_test.csv')\n",
    "y_test = pd.read_csv('data/y_test.csv')"
   ]
  },
  {
   "attachments": {},
   "cell_type": "markdown",
   "metadata": {},
   "source": [
    "## 6.3 Manual Feature Selection "
   ]
  },
  {
   "cell_type": "code",
   "execution_count": 3,
   "metadata": {},
   "outputs": [],
   "source": [
    "cols_select = ['store',\n",
    "                'promo',\n",
    "                'store_type',\n",
    "                'competition_distance',\n",
    "                'competition_open_since_month',\n",
    "                'competition_open_since_year',\n",
    "                'promo2_since_week',\n",
    "                'competition_time_month',\n",
    "                'promo_time_week',\n",
    "                'day_of_week_sin',\n",
    "                'day_of_week_cos',\n",
    "                'month_cos',\n",
    "                'month_sin',\n",
    "                'day_sin',\n",
    "                'day_cos']"
   ]
  },
  {
   "attachments": {},
   "cell_type": "markdown",
   "metadata": {},
   "source": [
    "## 07 - MACHINE LEARNING MODELLING"
   ]
  },
  {
   "cell_type": "code",
   "execution_count": 4,
   "metadata": {},
   "outputs": [],
   "source": [
    "X_train = X_train[cols_select]\n",
    "X_test = X_test[cols_select]"
   ]
  },
  {
   "attachments": {},
   "cell_type": "markdown",
   "metadata": {},
   "source": [
    "### 7.1 Avarage Model"
   ]
  },
  {
   "cell_type": "code",
   "execution_count": 5,
   "metadata": {},
   "outputs": [
    {
     "data": {
      "text/html": [
       "<div>\n",
       "<style scoped>\n",
       "    .dataframe tbody tr th:only-of-type {\n",
       "        vertical-align: middle;\n",
       "    }\n",
       "\n",
       "    .dataframe tbody tr th {\n",
       "        vertical-align: top;\n",
       "    }\n",
       "\n",
       "    .dataframe thead th {\n",
       "        text-align: right;\n",
       "    }\n",
       "</style>\n",
       "<table border=\"1\" class=\"dataframe\">\n",
       "  <thead>\n",
       "    <tr style=\"text-align: right;\">\n",
       "      <th></th>\n",
       "      <th>Model Name</th>\n",
       "      <th>MAE</th>\n",
       "      <th>MAPE</th>\n",
       "      <th>RMSE</th>\n",
       "    </tr>\n",
       "  </thead>\n",
       "  <tbody>\n",
       "    <tr>\n",
       "      <th>0</th>\n",
       "      <td>Average Model</td>\n",
       "      <td>1354.800353</td>\n",
       "      <td>0.2064</td>\n",
       "      <td>1835.135542</td>\n",
       "    </tr>\n",
       "  </tbody>\n",
       "</table>\n",
       "</div>"
      ],
      "text/plain": [
       "       Model Name          MAE    MAPE         RMSE\n",
       "0   Average Model  1354.800353  0.2064  1835.135542"
      ]
     },
     "execution_count": 5,
     "metadata": {},
     "output_type": "execute_result"
    }
   ],
   "source": [
    "aux1 = X_test.copy()\n",
    "aux1['sales'] = y_test.copy()\n",
    "aux1\n",
    "#prediction\n",
    "aux2 = aux1[['store', 'sales']].groupby('store').mean().reset_index().rename(columns={'sales': 'predictions'})\n",
    "aux1 = pd.merge(aux1, aux2, how = 'left', on = 'store')\n",
    "\n",
    "yhat_baseline = aux1['predictions']\n",
    "\n",
    "#performance\n",
    "\n",
    "baseline_result = ml_error(' Average Model', np.expm1(y_test), np.expm1(yhat_baseline))\n",
    "baseline_result"
   ]
  },
  {
   "cell_type": "code",
   "execution_count": 6,
   "metadata": {},
   "outputs": [
    {
     "data": {
      "text/html": [
       "<div>\n",
       "<style scoped>\n",
       "    .dataframe tbody tr th:only-of-type {\n",
       "        vertical-align: middle;\n",
       "    }\n",
       "\n",
       "    .dataframe tbody tr th {\n",
       "        vertical-align: top;\n",
       "    }\n",
       "\n",
       "    .dataframe thead th {\n",
       "        text-align: right;\n",
       "    }\n",
       "</style>\n",
       "<table border=\"1\" class=\"dataframe\">\n",
       "  <thead>\n",
       "    <tr style=\"text-align: right;\">\n",
       "      <th></th>\n",
       "      <th>Model Name</th>\n",
       "      <th>MAE</th>\n",
       "      <th>MAPE</th>\n",
       "      <th>RMSE</th>\n",
       "    </tr>\n",
       "  </thead>\n",
       "  <tbody>\n",
       "    <tr>\n",
       "      <th>0</th>\n",
       "      <td>Average Model</td>\n",
       "      <td>1429.763326</td>\n",
       "      <td>0.216814</td>\n",
       "      <td>1939.32873</td>\n",
       "    </tr>\n",
       "  </tbody>\n",
       "</table>\n",
       "</div>"
      ],
      "text/plain": [
       "       Model Name          MAE      MAPE        RMSE\n",
       "0   Average Model  1429.763326  0.216814  1939.32873"
      ]
     },
     "execution_count": 6,
     "metadata": {},
     "output_type": "execute_result"
    }
   ],
   "source": [
    "# Teste com a média do passado e prevendo o futuro\n",
    "\n",
    "aux1 = X_train.copy()\n",
    "aux1['sales'] = y_train.copy()\n",
    "aux1\n",
    "#prediction\n",
    "aux2 = aux1[['store', 'sales']].groupby('store').mean().reset_index().rename(columns={'sales': 'predictions'})\n",
    "aux1 = pd.merge(X_test, aux2, how = 'left', on = 'store')\n",
    "\n",
    "yhat_baseline = aux1['predictions']\n",
    "\n",
    "#performance\n",
    "\n",
    "baseline_result = ml_error(' Average Model', np.expm1(y_test), np.expm1(yhat_baseline))\n",
    "baseline_result"
   ]
  },
  {
   "cell_type": "code",
   "execution_count": 7,
   "metadata": {},
   "outputs": [],
   "source": [
    "# Concaternar para o Cross Validation\n",
    "\n",
    "X = pd.concat([X_train, X_test])\n",
    "y = pd.concat([y_train, y_test])\n",
    "\n",
    "X.to_csv('data/X.csv', index = False)\n",
    "y.to_csv('data/y.csv', index = False)\n",
    "\n",
    "#Criar um rastreador de datasets\n",
    "\n",
    "datasets_dics = [{'nome': 'sample_submission', 'Descricao': 'Dados para submissão no kaggle'},\n",
    "                 {'nome': 'store', 'Descricao': 'Tabela contendo informações sobre as lojas'},\n",
    "                 {'nome':'test', 'Descricao': 'Dados para test'},\n",
    "                 {'nome':'train', 'Descricao': 'Dados para train'},\n",
    "                 {'nome':'df5_transformado', 'Descricao':' Dados que sofreram transformações para o treino de ML (Robust Scaller, Encoding, transformacao de natureza e transformaçao da variavel target por log)'},\n",
    "                 {'nome': 'X_train', 'Descricao': \"Dados filtrado para treino (X_train = df6[df6['date'] < '2015-06-19']), copia do df5_transformado\"},\n",
    "                 {'nome':'X_test', 'Descricao': \"Dados filtrado para test (X_test = df6[df6['date'] >= '2015-06-19']), copia do df5_transformado\"},\n",
    "                 {'nome':'y_train', 'Descricao': 'Dados com valores de vendas para treino, copia do df5_transformado'},\n",
    "                 {'nome':'y_test', 'Descricao': 'Dados com valores de vendas para test, copia do df5_transformado'},\n",
    "                 {'nome':'X', 'Descricao': 'Dataset sendo a uniao dos datasets X_train e X_test, para aplicação do cross-validation'},\n",
    "                 {'nome':'y', 'Descricao': 'Dataset sendo a uniao dos datasets y_train e y_test, para aplicação do cross-validation'}\n",
    "                 ]\n",
    "\n",
    "datasets_info = pd.DataFrame(datasets_dics)\n",
    "datasets_info.to_csv('data/datasets_info.csv', index = False)"
   ]
  },
  {
   "cell_type": "code",
   "execution_count": 8,
   "metadata": {},
   "outputs": [
    {
     "data": {
      "text/plain": [
       "15"
      ]
     },
     "execution_count": 8,
     "metadata": {},
     "output_type": "execute_result"
    }
   ],
   "source": [
    "len(X.columns)"
   ]
  },
  {
   "attachments": {},
   "cell_type": "markdown",
   "metadata": {},
   "source": [
    "### 7.2. Linear Regression Model"
   ]
  },
  {
   "cell_type": "code",
   "execution_count": 9,
   "metadata": {},
   "outputs": [
    {
     "data": {
      "text/html": [
       "<div>\n",
       "<style scoped>\n",
       "    .dataframe tbody tr th:only-of-type {\n",
       "        vertical-align: middle;\n",
       "    }\n",
       "\n",
       "    .dataframe tbody tr th {\n",
       "        vertical-align: top;\n",
       "    }\n",
       "\n",
       "    .dataframe thead th {\n",
       "        text-align: right;\n",
       "    }\n",
       "</style>\n",
       "<table border=\"1\" class=\"dataframe\">\n",
       "  <thead>\n",
       "    <tr style=\"text-align: right;\">\n",
       "      <th></th>\n",
       "      <th>Model Name</th>\n",
       "      <th>MAE CV</th>\n",
       "      <th>MAPE CV</th>\n",
       "      <th>RMSE CV</th>\n",
       "    </tr>\n",
       "  </thead>\n",
       "  <tbody>\n",
       "    <tr>\n",
       "      <th>0</th>\n",
       "      <td>Linear Regression</td>\n",
       "      <td>2045.67 +/- 107.91</td>\n",
       "      <td>0.31 +/- 0.02</td>\n",
       "      <td>2974.36 +/- 191.87</td>\n",
       "    </tr>\n",
       "  </tbody>\n",
       "</table>\n",
       "</div>"
      ],
      "text/plain": [
       "          Model Name              MAE CV        MAPE CV             RMSE CV\n",
       "0  Linear Regression  2045.67 +/- 107.91  0.31 +/- 0.02  2974.36 +/- 191.87"
      ]
     },
     "execution_count": 9,
     "metadata": {},
     "output_type": "execute_result"
    }
   ],
   "source": [
    "# model\n",
    "lr = LinearRegression()\n",
    "\n",
    "#performance\n",
    "lr_result = timeSeries_CV(X, y, model_name='Linear Regression', model=lr, kfold=5)\n",
    "lr_result"
   ]
  },
  {
   "attachments": {},
   "cell_type": "markdown",
   "metadata": {},
   "source": [
    "### 7.3. Linear Regression Regularized Model - Lasso\n"
   ]
  },
  {
   "cell_type": "code",
   "execution_count": 16,
   "metadata": {},
   "outputs": [
    {
     "data": {
      "text/html": [
       "<div>\n",
       "<style scoped>\n",
       "    .dataframe tbody tr th:only-of-type {\n",
       "        vertical-align: middle;\n",
       "    }\n",
       "\n",
       "    .dataframe tbody tr th {\n",
       "        vertical-align: top;\n",
       "    }\n",
       "\n",
       "    .dataframe thead th {\n",
       "        text-align: right;\n",
       "    }\n",
       "</style>\n",
       "<table border=\"1\" class=\"dataframe\">\n",
       "  <thead>\n",
       "    <tr style=\"text-align: right;\">\n",
       "      <th></th>\n",
       "      <th>Model Name</th>\n",
       "      <th>MAE CV</th>\n",
       "      <th>MAPE CV</th>\n",
       "      <th>RMSE CV</th>\n",
       "    </tr>\n",
       "  </thead>\n",
       "  <tbody>\n",
       "    <tr>\n",
       "      <th>0</th>\n",
       "      <td>Linear Regression - Lasso</td>\n",
       "      <td>2019.43 +/- 83.61</td>\n",
       "      <td>0.32 +/- 0.01</td>\n",
       "      <td>2880.73 +/- 153.68</td>\n",
       "    </tr>\n",
       "  </tbody>\n",
       "</table>\n",
       "</div>"
      ],
      "text/plain": [
       "                  Model Name             MAE CV        MAPE CV   \n",
       "0  Linear Regression - Lasso  2019.43 +/- 83.61  0.32 +/- 0.01  \\\n",
       "\n",
       "              RMSE CV  \n",
       "0  2880.73 +/- 153.68  "
      ]
     },
     "execution_count": 16,
     "metadata": {},
     "output_type": "execute_result"
    }
   ],
   "source": [
    "# Model\n",
    "lrr = Lasso(alpha= 0.001)\n",
    "\n",
    "#Performance\n",
    "lrr_result = timeSeries_CV(X, y, model_name='Linear Regression - Lasso', model=lrr, kfold=5)\n",
    "lrr_result"
   ]
  },
  {
   "attachments": {},
   "cell_type": "markdown",
   "metadata": {},
   "source": [
    "### 7.4. Random Forest Regressor"
   ]
  },
  {
   "cell_type": "code",
   "execution_count": 17,
   "metadata": {},
   "outputs": [
    {
     "data": {
      "text/html": [
       "<div>\n",
       "<style scoped>\n",
       "    .dataframe tbody tr th:only-of-type {\n",
       "        vertical-align: middle;\n",
       "    }\n",
       "\n",
       "    .dataframe tbody tr th {\n",
       "        vertical-align: top;\n",
       "    }\n",
       "\n",
       "    .dataframe thead th {\n",
       "        text-align: right;\n",
       "    }\n",
       "</style>\n",
       "<table border=\"1\" class=\"dataframe\">\n",
       "  <thead>\n",
       "    <tr style=\"text-align: right;\">\n",
       "      <th></th>\n",
       "      <th>Model Name</th>\n",
       "      <th>MAE CV</th>\n",
       "      <th>MAPE CV</th>\n",
       "      <th>RMSE CV</th>\n",
       "    </tr>\n",
       "  </thead>\n",
       "  <tbody>\n",
       "    <tr>\n",
       "      <th>0</th>\n",
       "      <td>Random Forest Regressor</td>\n",
       "      <td>957.11 +/- 219.69</td>\n",
       "      <td>0.15 +/- 0.03</td>\n",
       "      <td>1507.6 +/- 318.76</td>\n",
       "    </tr>\n",
       "  </tbody>\n",
       "</table>\n",
       "</div>"
      ],
      "text/plain": [
       "                Model Name             MAE CV        MAPE CV   \n",
       "0  Random Forest Regressor  957.11 +/- 219.69  0.15 +/- 0.03  \\\n",
       "\n",
       "             RMSE CV  \n",
       "0  1507.6 +/- 318.76  "
      ]
     },
     "execution_count": 17,
     "metadata": {},
     "output_type": "execute_result"
    }
   ],
   "source": [
    "# model\n",
    "rf = RandomForestRegressor( n_estimators=100, n_jobs=-1, random_state=42 )\n",
    "\n",
    "\n",
    "# performance\n",
    "rf_result = timeSeries_CV(X, y, model_name='Random Forest Regressor', model=rf, kfold=5)\n",
    "rf_result"
   ]
  },
  {
   "attachments": {},
   "cell_type": "markdown",
   "metadata": {},
   "source": [
    "### 7.5. XGBoost Regressor"
   ]
  },
  {
   "cell_type": "code",
   "execution_count": 20,
   "metadata": {},
   "outputs": [
    {
     "data": {
      "text/html": [
       "<div>\n",
       "<style scoped>\n",
       "    .dataframe tbody tr th:only-of-type {\n",
       "        vertical-align: middle;\n",
       "    }\n",
       "\n",
       "    .dataframe tbody tr th {\n",
       "        vertical-align: top;\n",
       "    }\n",
       "\n",
       "    .dataframe thead th {\n",
       "        text-align: right;\n",
       "    }\n",
       "</style>\n",
       "<table border=\"1\" class=\"dataframe\">\n",
       "  <thead>\n",
       "    <tr style=\"text-align: right;\">\n",
       "      <th></th>\n",
       "      <th>Model Name</th>\n",
       "      <th>MAE CV</th>\n",
       "      <th>MAPE CV</th>\n",
       "      <th>RMSE CV</th>\n",
       "    </tr>\n",
       "  </thead>\n",
       "  <tbody>\n",
       "    <tr>\n",
       "      <th>0</th>\n",
       "      <td>XGBoost Regressor</td>\n",
       "      <td>1119.59 +/- 176.27</td>\n",
       "      <td>0.17 +/- 0.02</td>\n",
       "      <td>1603.97 +/- 277.82</td>\n",
       "    </tr>\n",
       "  </tbody>\n",
       "</table>\n",
       "</div>"
      ],
      "text/plain": [
       "          Model Name              MAE CV        MAPE CV             RMSE CV\n",
       "0  XGBoost Regressor  1119.59 +/- 176.27  0.17 +/- 0.02  1603.97 +/- 277.82"
      ]
     },
     "execution_count": 20,
     "metadata": {},
     "output_type": "execute_result"
    }
   ],
   "source": [
    "# model\n",
    "model_xgb = xgb.XGBRegressor()\n",
    "\n",
    "\n",
    "\n",
    "# performance\n",
    "xgb_result = timeSeries_CV(X, y, model_name= 'XGBoost Regressor', model=model_xgb, kfold=5)\n",
    "xgb_result"
   ]
  },
  {
   "attachments": {},
   "cell_type": "markdown",
   "metadata": {},
   "source": [
    "### 7.6 Compare Model's Performance"
   ]
  },
  {
   "cell_type": "code",
   "execution_count": 32,
   "metadata": {},
   "outputs": [
    {
     "data": {
      "text/html": [
       "<div>\n",
       "<style scoped>\n",
       "    .dataframe tbody tr th:only-of-type {\n",
       "        vertical-align: middle;\n",
       "    }\n",
       "\n",
       "    .dataframe tbody tr th {\n",
       "        vertical-align: top;\n",
       "    }\n",
       "\n",
       "    .dataframe thead th {\n",
       "        text-align: right;\n",
       "    }\n",
       "</style>\n",
       "<table border=\"1\" class=\"dataframe\">\n",
       "  <thead>\n",
       "    <tr style=\"text-align: right;\">\n",
       "      <th></th>\n",
       "      <th>Model Name</th>\n",
       "      <th>MAE CV</th>\n",
       "      <th>MAPE CV</th>\n",
       "      <th>RMSE CV</th>\n",
       "    </tr>\n",
       "  </thead>\n",
       "  <tbody>\n",
       "    <tr>\n",
       "      <th>0</th>\n",
       "      <td>Random Forest Regressor</td>\n",
       "      <td>957.11 +/- 219.69</td>\n",
       "      <td>0.15 +/- 0.03</td>\n",
       "      <td>1507.6 +/- 318.76</td>\n",
       "    </tr>\n",
       "    <tr>\n",
       "      <th>0</th>\n",
       "      <td>XGBoost Regressor</td>\n",
       "      <td>1119.59 +/- 176.27</td>\n",
       "      <td>0.17 +/- 0.02</td>\n",
       "      <td>1603.97 +/- 277.82</td>\n",
       "    </tr>\n",
       "    <tr>\n",
       "      <th>0</th>\n",
       "      <td>Linear Regression - Lasso</td>\n",
       "      <td>2019.43 +/- 83.61</td>\n",
       "      <td>0.32 +/- 0.01</td>\n",
       "      <td>2880.73 +/- 153.68</td>\n",
       "    </tr>\n",
       "    <tr>\n",
       "      <th>0</th>\n",
       "      <td>Linear Regression</td>\n",
       "      <td>2045.67 +/- 107.91</td>\n",
       "      <td>0.31 +/- 0.02</td>\n",
       "      <td>2974.36 +/- 191.87</td>\n",
       "    </tr>\n",
       "  </tbody>\n",
       "</table>\n",
       "</div>"
      ],
      "text/plain": [
       "                  Model Name              MAE CV        MAPE CV   \n",
       "0    Random Forest Regressor   957.11 +/- 219.69  0.15 +/- 0.03  \\\n",
       "0          XGBoost Regressor  1119.59 +/- 176.27  0.17 +/- 0.02   \n",
       "0  Linear Regression - Lasso   2019.43 +/- 83.61  0.32 +/- 0.01   \n",
       "0          Linear Regression  2045.67 +/- 107.91  0.31 +/- 0.02   \n",
       "\n",
       "              RMSE CV  \n",
       "0   1507.6 +/- 318.76  \n",
       "0  1603.97 +/- 277.82  \n",
       "0  2880.73 +/- 153.68  \n",
       "0  2974.36 +/- 191.87  "
      ]
     },
     "execution_count": 32,
     "metadata": {},
     "output_type": "execute_result"
    }
   ],
   "source": [
    "modelling_result = pd.concat( [lr_result, lrr_result, rf_result, xgb_result] )\n",
    "modelling_result.sort_values( 'RMSE CV' )\n"
   ]
  }
 ],
 "metadata": {
  "kernelspec": {
   "display_name": ".envRossmann",
   "language": "python",
   "name": "python3"
  },
  "language_info": {
   "codemirror_mode": {
    "name": "ipython",
    "version": 3
   },
   "file_extension": ".py",
   "mimetype": "text/x-python",
   "name": "python",
   "nbconvert_exporter": "python",
   "pygments_lexer": "ipython3",
   "version": "3.10.9"
  },
  "orig_nbformat": 4
 },
 "nbformat": 4,
 "nbformat_minor": 2
}
